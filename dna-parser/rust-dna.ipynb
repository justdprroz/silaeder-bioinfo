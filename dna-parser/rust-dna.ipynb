{
 "cells": [
  {
   "cell_type": "code",
   "execution_count": 7,
   "metadata": {
    "vscode": {
     "languageId": "rust"
    }
   },
   "outputs": [],
   "source": [
    ":dep itertools = \"0.10.4\"\n",
    ":dep plotters = \"0.3.4\"\n",
    ":dep rand = \"0.8.5\"\n",
    "// Some imports and cargo deps\n",
    "use std::{fs, collections::HashSet, iter::FromIterator, hash::Hash};\n",
    "use itertools::Itertools;\n",
    "use plotters::prelude::*;"
   ]
  },
  {
   "cell_type": "code",
   "execution_count": null,
   "id": "edefe25b",
   "metadata": {
    "vscode": {
     "languageId": "rust"
    }
   },
   "outputs": [],
   "source": [
    "struct OpenReadingFrame {\n",
    "    start: bool,\n",
    "    stop: bool,\n",
    "    reverse: bool\n",
    "}"
   ]
  },
  {
   "cell_type": "code",
   "execution_count": 8,
   "id": "bf4da017",
   "metadata": {
    "vscode": {
     "languageId": "rust"
    }
   },
   "outputs": [],
   "source": [
    "// Function to read dna string from file\n",
    "fn get_dna_string(path: String) -> String {\n",
    "    // read file with genome\n",
    "    let raw_genome = fs::read_to_string(path).unwrap();\n",
    "    // remove header line and replace newline by nothing\n",
    "    raw_genome[(raw_genome.chars().position(|c| c == '\\n').unwrap())..].replace(\"\\n\", \"\")\n",
    "}"
   ]
  },
  {
   "cell_type": "code",
   "execution_count": 9,
   "id": "b4ca3641",
   "metadata": {
    "vscode": {
     "languageId": "rust"
    }
   },
   "outputs": [],
   "source": [
    "// create and auto transform histogram from data and save to path\n",
    "fn create_histogram(path: String, data: Vec<isize>) {\n",
    "    let unique_data = HashSet::<isize>::from_iter(data.clone().into_iter());\n",
    "    let data_amount: Vec<isize> = unique_data.iter().map(|f| data.iter().filter(|v| **v == *f).count() as isize).collect();\n",
    "\n",
    "    let drawing_area = SVGBackend::new(&path, (1920 * 2, 1080 * 2)).into_drawing_area();\n",
    "    drawing_area.fill(&WHITE).unwrap();\n",
    "\n",
    "    let mut chart = ChartBuilder::on(&drawing_area)\n",
    "        .x_label_area_size(35)\n",
    "        .y_label_area_size(40)\n",
    "        .margin(50)\n",
    "        .caption(\"Genome Length\", (\"sans-serif\", 100.0))\n",
    "        .build_cartesian_2d(0..unique_data.len() as isize, 0..*data_amount.iter().max().unwrap()).unwrap();\n",
    "\n",
    "    chart\n",
    "        .configure_mesh()\n",
    "        .disable_x_mesh()\n",
    "        .bold_line_style(&WHITE.mix(0.3))\n",
    "        .y_desc(\"Amount\")\n",
    "        .x_desc(\"Length\")\n",
    "        .axis_desc_style((\"sans-serif\", 50))\n",
    "        .draw()\n",
    "        .unwrap();\n",
    "\n",
    "    chart.draw_series(\n",
    "        Histogram::vertical(&chart)\n",
    "            .style(BLUE.filled())\n",
    "            .data(data.iter().map(|x: &isize| (*x, 1)))\n",
    "            .margin(0),\n",
    "    ).unwrap();\n",
    "\n",
    "    drawing_area.present().unwrap();\n",
    "}"
   ]
  },
  {
   "cell_type": "code",
   "execution_count": 14,
   "id": "be43bde9",
   "metadata": {
    "vscode": {
     "languageId": "rust"
    }
   },
   "outputs": [
    {
     "ename": "Error",
     "evalue": "cannot find value `start_codon` in this scope",
     "output_type": "error",
     "traceback": [
      "                if current_triplet == start_codon && !found_start {",
      "                                      ^^^^^^^^^^^ not found in this scope",
      "cannot find value `start_codon` in this scope"
     ]
    },
    {
     "ename": "Error",
     "evalue": "cannot find value `stop_codons` in this scope",
     "output_type": "error",
     "traceback": [
      "                if stop_codons.contains(&current_triplet) && found_start {",
      "                   ^^^^^^^^^^^ not found in this scope",
      "cannot find value `stop_codons` in this scope"
     ]
    }
   ],
   "source": [
    "fn parse_orfs(dna: String, reverse: bool, triplets: triplet_dict) -> Vec<OpenReadingFrame> {\n",
    "    let orfs = vec![];\n",
    "    for offset in [0, 1, 2] {\n",
    "        let mut last_start = -1;\n",
    "        let mut found_start = false;\n",
    "        for pos in (offset..dna.len()).step_by(3) {\n",
    "            if pos + 2 < dna.len() {\n",
    "                let current_triplet = &dna[pos..pos + 3];\n",
    "                if current_triplet == start_codon && !found_start {\n",
    "                    found_start = true;\n",
    "                    last_start = pos as isize\n",
    "                }\n",
    "                if stop_codons.contains(&current_triplet) && found_start {\n",
    "                    found_start = false;\n",
    "                    orfs.push((last_start as usize + 1, pos as usize + 3, true));\n",
    "                }\n",
    "            }\n",
    "        }\n",
    "    }\n",
    "    orfs\n",
    "}"
   ]
  },
  {
   "cell_type": "code",
   "execution_count": 10,
   "id": "099ef322",
   "metadata": {
    "vscode": {
     "languageId": "rust"
    }
   },
   "outputs": [],
   "source": [
    "// get DNA string\n",
    "let dna = get_dna_string(\"genome.fna\".to_string());\n",
    "// let dna = \"TTATGCATGCATAGATAA\";\n",
    "\n",
    "// codons\n",
    "let start_codon = \"ATG\";\n",
    "let stop_codons = [\"TAG\", \"TAA\", \"TGA\"];\n",
    "\n",
    "// store found frames\n",
    "let mut orfs = Vec::<(usize, usize, bool)>::new();\n",
    "\n",
    "// check forward\n",
    "for offset in [0, 1, 2] {\n",
    "    let mut last_start = -1;\n",
    "    let mut found_start = false;\n",
    "    for pos in (offset..dna.len()).step_by(3) {\n",
    "        if pos + 2 < dna.len() {\n",
    "            let current_triplet = &dna[pos..pos + 3];\n",
    "            if current_triplet == start_codon && !found_start {\n",
    "                found_start = true;\n",
    "                last_start = pos as isize\n",
    "            }\n",
    "            if stop_codons.contains(&current_triplet) && found_start {\n",
    "                found_start = false;\n",
    "                orfs.push((last_start as usize + 1, pos as usize + 3, true));\n",
    "            }\n",
    "        }\n",
    "    }\n",
    "}\n",
    "\n",
    "// reverse and reverse compliment\n",
    "let reversed_genome: String = dna.chars().map(|c| match c {\n",
    "    'A' => 'T',\n",
    "    'T' => 'A',\n",
    "    'G' => 'C',\n",
    "    'C' => 'G',\n",
    "    _ => {panic!()},\n",
    "}).rev().collect();\n",
    "\n",
    "// check backwards\n",
    "for offset in [0, 1, 2] {\n",
    "    let mut last_start = -1;\n",
    "    let mut found_start = false;\n",
    "    for pos in (offset..reversed_genome.len()).step_by(3) {\n",
    "        if pos + 2 < reversed_genome.len() {\n",
    "            let current_triplet = &reversed_genome[pos..pos + 3];\n",
    "            if current_triplet == start_codon && !found_start {\n",
    "                found_start = true;\n",
    "                last_start = pos as isize\n",
    "            }\n",
    "            if stop_codons.contains(&current_triplet) && found_start {\n",
    "                found_start = false;\n",
    "                orfs.push((reversed_genome.len() - pos - 2, reversed_genome.len() - last_start as usize, false));\n",
    "            }\n",
    "        }\n",
    "    }\n",
    "}\n",
    "\n",
    "// print found orfs\n",
    "// for i in &orfs {\n",
    "    // println!(\"{} {} {}\", i.0, i.1, [\"-\", \"+\"][if i.2 { 1 } else { 0 }])\n",
    "// }\n",
    "// println!(\"{}\", orfs.len());\n",
    "\n",
    "let data: Vec<isize> = orfs.iter().map(|o| (o.1 - o.0) as isize).sorted().collect();\n",
    "\n",
    "create_histogram(String::from(\"histogram.svg\"), data);"
   ]
  },
  {
   "cell_type": "code",
   "execution_count": null,
   "id": "ac8a6578",
   "metadata": {
    "vscode": {
     "languageId": "rust"
    }
   },
   "outputs": [],
   "source": []
  }
 ],
 "metadata": {
  "kernelspec": {
   "display_name": "Rust",
   "language": "rust",
   "name": "rust"
  },
  "language_info": {
   "codemirror_mode": "rust",
   "file_extension": ".rs",
   "mimetype": "text/rust",
   "name": "Rust",
   "pygment_lexer": "rust",
   "version": ""
  }
 },
 "nbformat": 4,
 "nbformat_minor": 5
}
